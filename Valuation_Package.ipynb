{
 "cells": [
  {
   "cell_type": "markdown",
   "metadata": {
    "tags": []
   },
   "source": [
    "# Valuation Package - Prototype"
   ]
  },
  {
   "cell_type": "code",
   "execution_count": 42,
   "metadata": {
    "partialCollapse": true,
    "tags": []
   },
   "outputs": [],
   "source": [
    "#Importing Packages\n",
    "import numpy as np\n",
    "import pandas as pd\n",
    "import seaborn as sns\n",
    "from fitter import Fitter, get_common_distributions, get_distributions\n",
    "import random\n",
    "import matplotlib.pyplot as plt\n",
    "from mortgage import Loan"
   ]
  },
  {
   "cell_type": "code",
   "execution_count": 43,
   "metadata": {
    "jupyter": {
     "source_hidden": true
    },
    "tags": []
   },
   "outputs": [],
   "source": [
    "## Object to Simulate Proformas\n",
    "\n",
    "class Real_Estate_Proforma():\n",
    "    #Initial Variables\n",
    "    def __init__(self, rent=2000, periods=10 , Vacancy_correction=[0,0.0833,0.1248,0.1666,0.2496],probability_vacancy=(70, 10, 10, 5,5)):\n",
    "        self.rent =[rent]\n",
    "        self.periods = periods\n",
    "        self.Vacancy_correction=Vacancy_correction\n",
    "        self.probability_vacancy=probability_vacancy\n",
    "        self.Rent_projection=[]\n",
    "        self.op_expenses=[]\n",
    "        self.property_value=[]\n",
    "        self.appreciation=[]\n",
    "        self.NPV=[]\n",
    "        self.Cum_Sum_NPV=[]\n",
    "        self.loan_projection=[]\n",
    "    #Rent Projection\n",
    "    def rent_projection(self, mean_rent_growth=0.04 ,sd_rent_growth=0.01):\n",
    "        Rent_projection=[self.rent[0]*12]\n",
    "        for i in range(0,self.periods-1):\n",
    "            rent_growth=np.random.normal(mean_rent_growth, sd_rent_growth,1)\n",
    "            Vacancy_choice=random.choices(self.Vacancy_correction,weights=self.probability_vacancy, k=1)\n",
    "            Next_Rent=(Rent_projection[-1]*(1+rent_growth[0])*(1-Vacancy_choice[0]))\n",
    "            Rent_projection.append(Next_Rent)\n",
    "        self.Rent_projection=Rent_projection\n",
    "    #Rent Projection - List\n",
    "    def rent_projection_list(self):\n",
    "        return self.Rent_projection\n",
    "    #Operational Expenses\n",
    "    def op_cost_forecast(self,mean_op_cost=0.40,std_op_cost=0.01):\n",
    "        op_expenses=[]\n",
    "        for i in self.Rent_projection:\n",
    "            Percentage_of_Gross_Rent=np.random.normal(mean_op_cost, std_op_cost,1)\n",
    "            op_cost=i*Percentage_of_Gross_Rent[0]\n",
    "            op_expenses.append(op_cost) \n",
    "        self.op_expenses=op_expenses\n",
    "    #Operational Expenses - List\n",
    "    def op_cost_forecast_list(self):\n",
    "        return self.op_expenses\n",
    "    #Property Appreciation\n",
    "    def property_appreciation(self,initial_value=500000,Downpayment_percentage=0.3,interest=.0289 ,term_years=25,mean_appreciation=0.03,std_appreciation=0.6):\n",
    "        property_value=[initial_value]\n",
    "        loan = Loan(principal=initial_value*(1-Downpayment_percentage), interest=interest, term=term_years)\n",
    "        self.loan_projection = loan\n",
    "        Property_Appreciation=[]\n",
    "        for i in range(0,self.periods):\n",
    "            Appreciation=np.random.normal(mean_appreciation, std_appreciation,1)\n",
    "            Next_Value_Home=(property_value[-1]*(1+Appreciation[0]))\n",
    "            property_value.append(Next_Value_Home)\n",
    "        end_year_property_value=property_value[1:]\n",
    "        self.property_value=end_year_property_value\n",
    "        #It is important to substract the value of the initial downpayment to calculate the real appreciation and what is being payed by the tenant\n",
    "        for i in range(0,len(end_year_property_value)):\n",
    "            period_appreciation=(end_year_property_value[i]-property_value[i])\n",
    "            Property_Appreciation.append(period_appreciation)\n",
    "        self.appreciation=Property_Appreciation\n",
    "    #Property Value - List\n",
    "    def property_value_list(self):\n",
    "        return self.property_value\n",
    "    #Property Appreciation - List\n",
    "    def property_appreciation_list(self):\n",
    "        return self.appreciation\n",
    "    #NPV\n",
    "    def calculate_NPV(self,mean_inflation=0.03, std_inflation=0.01):\n",
    "        NPV=[]\n",
    "        Cum_Sum_NPV=[]\n",
    "        inflation=np.random.normal(mean_inflation, std_inflation,1)\n",
    "        #NPV takes into accound my rent projection, my op.expense, the expenses made during the year in interest and what I earned from appreciation and capital payments\n",
    "        for i in range(0,self.periods):\n",
    "            #NPV_Period=(self.Rent_projection[i] - self.op_expenses[i]- (int(self.loan_projection.schedule()[12*(i+1)][4]-self.loan_projection.schedule()[12*(i)][4])) - (int(self.loan_projection.schedule()[12*(i+1)][5])-int(self.loan_projection.schedule()[12*(i)][5])) + self.appreciation[i])/(1+inflation)**(i)\n",
    "            NPV_Period=(self.Rent_projection[i] - self.op_expenses[i]-(int(self.loan_projection.schedule()[12*(i+1)][4]-self.loan_projection.schedule()[12*(i)][4])) - (int(self.loan_projection.schedule()[12*(i)][5])-int(self.loan_projection.schedule()[12*(i+1)][5]))+self.appreciation[i])/(1+inflation)**(i)\n",
    "            NPV.append(NPV_Period)\n",
    "        self.NPV=NPV\n",
    "        Cum_Sum_NPV=(np.cumsum(NPV))\n",
    "        self.Cum_Sum_NPV=Cum_Sum_NPV\n",
    "    #NPV  List\n",
    "    def NPV_list(self):\n",
    "        return self.NPV\n",
    "    #Cum Sum NPV - List\n",
    "    def Cum_Sum_NPV_list(self):\n",
    "        return self.Cum_Sum_NPV"
   ]
  },
  {
   "cell_type": "code",
   "execution_count": 66,
   "metadata": {
    "tags": []
   },
   "outputs": [],
   "source": [
    "#Variables for configurations\n",
    "simulations=1\n",
    "#Paramenters\n",
    "Projection_Len=10\n",
    "Initial_rent=1300\n",
    "mean_rent_growth=0.05\n",
    "sd_rent_growth=0.01\n",
    "mean_op_cost=0.50\n",
    "std_op_cost=0.20\n",
    "initial_value=250000\n",
    "Downpayment_percentage=0.1\n",
    "interest=.0289\n",
    "loan_term_years=15\n",
    "mean_appreciation=0.03\n",
    "std_appreciation=0.1\n",
    "mean_inflation=0.04 \n",
    "std_inflation=0.03"
   ]
  },
  {
   "cell_type": "code",
   "execution_count": 67,
   "metadata": {
    "jupyter": {
     "source_hidden": true
    },
    "tags": []
   },
   "outputs": [
    {
     "data": {
      "image/png": "[encoded data removed]",
      "text/plain": [
       "<Figure size 432x288 with 1 Axes>"
      ]
     },
     "metadata": {
      "needs_background": "light"
     },
     "output_type": "display_data"
    }
   ],
   "source": [
    "#Loops of Simulations\n",
    "scenarios=[]\n",
    "for i in range(simulations):\n",
    "    My_building=Real_Estate_Proforma(rent=Initial_rent,periods=Projection_Len)\n",
    "    My_building.rent_projection( mean_rent_growth=mean_rent_growth ,sd_rent_growth=sd_rent_growth)\n",
    "    My_building.op_cost_forecast(mean_op_cost=mean_op_cost,std_op_cost=std_op_cost)\n",
    "    My_building.property_appreciation(initial_value=initial_value,Downpayment_percentage=Downpayment_percentage,interest=interest ,term_years=loan_term_years,mean_appreciation=mean_appreciation,std_appreciation=std_appreciation)\n",
    "    My_building.calculate_NPV(mean_inflation=mean_inflation, std_inflation=std_inflation)\n",
    "    scenarios.append(My_building.Cum_Sum_NPV_list())  \n",
    "#Graph\n",
    "Graph_Periods=list(range(0,Projection_Len))\n",
    "for i in range(0,len(scenarios)):\n",
    "    label=\"Line\"+\"_\"+str(i)\n",
    "    plt.plot(Graph_Periods,scenarios[i], label =label, linestyle=\"-\")\n",
    "plt.show()     \n",
    "\n",
    "#property_value_list(self)\n",
    "#property_appreciation_list()"
   ]
  },
  {
   "cell_type": "code",
   "execution_count": 68,
   "metadata": {
    "tags": []
   },
   "outputs": [
    {
     "data": {
      "text/plain": [
       "(array([0., 0., 0., 0., 0., 1., 0., 0., 0., 0.]),\n",
       " array([-104090.19850117, -104090.09850117, -104089.99850117,\n",
       "        -104089.89850117, -104089.79850117, -104089.69850117,\n",
       "        -104089.59850117, -104089.49850117, -104089.39850117,\n",
       "        -104089.29850117, -104089.19850117]),\n",
       " <BarContainer object of 10 artists>)"
      ]
     },
     "execution_count": 68,
     "metadata": {},
     "output_type": "execute_result"
    },
    {
     "data": {
      "image/png": "[encoded data removed]",
      "text/plain": [
       "<Figure size 432x288 with 1 Axes>"
      ]
     },
     "metadata": {
      "needs_background": "light"
     },
     "output_type": "display_data"
    }
   ],
   "source": [
    "#Histogram of final NPV\n",
    "Final_NPV=[]\n",
    "for i in range(0,len(scenarios)):\n",
    "    NPV=scenarios[i][-1]\n",
    "    Final_NPV.append(NPV)\n",
    "    \n",
    "counts, bins=np.histogram(Final_NPV)\n",
    "plt.hist(bins[:-1], bins=bins, weights=counts)"
   ]
  },
  {
   "cell_type": "code",
   "execution_count": 69,
   "metadata": {
    "tags": []
   },
   "outputs": [
    {
     "name": "stderr",
     "output_type": "stream",
     "text": [
      "<ipython-input-69-b0ba69f942c5>:2: RuntimeWarning: invalid value encountered in double_scalars\n",
      "  Cash_on_Cash =((sum(Final_NPV)/len(Final_NPV))/(initial_value*Downpayment_percentage))**(1/Projection_Len)-1\n"
     ]
    },
    {
     "data": {
      "text/plain": [
       "nan"
      ]
     },
     "execution_count": 69,
     "metadata": {},
     "output_type": "execute_result"
    }
   ],
   "source": [
    "#Cash-on-Cash per annum return\n",
    "Cash_on_Cash =((sum(Final_NPV)/len(Final_NPV))/(initial_value*Downpayment_percentage))**(1/Projection_Len)-1\n",
    "Cash_on_Cash\n",
    "#print('Avg. Cash-on-Cash per annum return of this investment is ' + str(round(Cash_on_Cash*100,2)) +'%' )"
   ]
  },
  {
   "cell_type": "code",
   "execution_count": 62,
   "metadata": {
    "tags": []
   },
   "outputs": [
    {
     "name": "stdout",
     "output_type": "stream",
     "text": [
      "Median. Cash-on-Cash per annum return of this investment is nan%\n"
     ]
    },
    {
     "name": "stderr",
     "output_type": "stream",
     "text": [
      "<ipython-input-62-c0689a5161db>:1: RuntimeWarning: invalid value encountered in double_scalars\n",
      "  Median_Cash_on_Cash=(np.median(Final_NPV)/(initial_value*Downpayment_percentage))**(1/Projection_Len)-1\n"
     ]
    }
   ],
   "source": [
    "Median_Cash_on_Cash=(np.median(Final_NPV)/(initial_value*Downpayment_percentage))**(1/Projection_Len)-1\n",
    "print('Median. Cash-on-Cash per annum return of this investment is ' + str(round(Median_Cash_on_Cash*100,2)) +'%' )"
   ]
  },
  {
   "cell_type": "code",
   "execution_count": null,
   "metadata": {},
   "outputs": [],
   "source": []
  },
  {
   "cell_type": "code",
   "execution_count": null,
   "metadata": {},
   "outputs": [],
   "source": []
  }
 ],
 "metadata": {
  "kernelspec": {
   "display_name": "Python 3",
   "language": "python",
   "name": "python3"
  },
  "language_info": {
   "codemirror_mode": {
    "name": "ipython",
    "version": 3
   },
   "file_extension": ".py",
   "mimetype": "text/x-python",
   "name": "python",
   "nbconvert_exporter": "python",
   "pygments_lexer": "ipython3",
   "version": "3.8.5"
  },
  "toc-autonumbering": false,
  "toc-showcode": true,
  "toc-showmarkdowntxt": true,
  "toc-showtags": true
 },
 "nbformat": 4,
 "nbformat_minor": 4
}
